{
  "nbformat": 4,
  "nbformat_minor": 0,
  "metadata": {
    "colab": {
      "provenance": []
    },
    "kernelspec": {
      "name": "python3",
      "display_name": "Python 3"
    },
    "language_info": {
      "name": "python"
    }
  },
  "cells": [
    {
      "cell_type": "code",
      "execution_count": null,
      "metadata": {
        "id": "UJ2zKBsCWJH0"
      },
      "outputs": [],
      "source": [
        "import pandas as pd\n",
        "import numpy as np\n",
        "import os\n",
        "from sklearn.model_selection import train_test_split\n",
        "from sklearn.model_selection import cross_val_score\n",
        "from sklearn.model_selection import ShuffleSplit\n",
        "from sklearn.decomposition import PCA\n",
        "import joblib\n",
        "from sklearn.svm import LinearSVC\n",
        "from sklearn.ensemble import RandomForestClassifier\n",
        "from sklearn.metrics import accuracy_score\n",
        "from sklearn.metrics import confusion_matrix\n",
        "from sklearn.metrics import classification_report\n",
        "import matplotlib.pyplot as plt"
      ]
    },
    {
      "cell_type": "code",
      "source": [
        "def plot_graph(df, legend_1, legend_2):\n",
        "\tif legend_2 == 3:\n",
        "\t\tdf[legend_2]=df[legend_2].abs()\n",
        "\tif legend_1 == 3:\n",
        "\t\tdf[legend_1]=df[legend_1].abs()\n",
        "\tpostives = df.loc[df[\"class\"] == 1]\n",
        "\tnegatives = df.loc[df[\"class\"] == 0]\n",
        "\tfigure = plt.figure()\n",
        "\tplt.xlabel(legend_1[1])\n",
        "\tplt.ylabel(legend_2[1])\n",
        "\tplt.plot(postives.iloc[:, legend_1[0]], postives.iloc[:, legend_2[0]], 'ro', label=\"Tsunamigenic\")\n",
        "\tplt.plot(negatives.iloc[:, legend_1[0]], negatives.iloc[:, legend_2[0]], 'bo', label=\"Non-Tsunamigenic\")\n",
        "\tplt.legend(loc=\"best\")\n",
        "\tfigure.savefig(legend_1[2] + \"_vs_\" + legend_2[2] + \".svg\", format='svg', dpi=1200)\n",
        "\tplt.show()\t"
      ],
      "metadata": {
        "id": "0fuPtkbqXSMd"
      },
      "execution_count": null,
      "outputs": []
    },
    {
      "cell_type": "code",
      "source": [
        "def features_relationship(df, array):\n",
        "\tcolors = np.where(df.iloc[:, -1] > 0, 'b', 'r')\n",
        "\tlegends = ['magnitude', 'depth', 'region', 'distance']\n",
        "\tf, ax_arr = plt.subplots(4,3)\n",
        "\tf.canvas.set_window_title('Feature Relationship')\n",
        "\tf.subplots_adjust(hspace=0.36, top=1.0, bottom=0.06, wspace=0.22, left=0.05, right=0.95)\n",
        "\tx, y = 0, 0\n",
        "\tfor i in range(len(legends)):\n",
        "\t\ty = 0\n",
        "\t\tfor j in range(len(legends)):\n",
        "\t\t\tif legends[i] != legends[j]:\n",
        "\t\t\t\tax_arr[x, y].set(xlabel=legends[i], ylabel=legends[j])\n",
        "\t\t\t\tax_arr[x, y].scatter(df.iloc[:, i], df.iloc[:, j], c=colors)\n",
        "\t\t\t\ty += 1\n",
        "\t\tx += 1\n",
        "\tfigManager = plt.get_current_fig_manager()\n",
        "\t#figManager.window.showMaximized()\n",
        "\tplt.show()"
      ],
      "metadata": {
        "id": "hspAp_OlXkj4"
      },
      "execution_count": null,
      "outputs": []
    },
    {
      "cell_type": "code",
      "source": [
        "def dimensional_reduction(features, labels):\n",
        "\tpca = PCA(n_components=2)\n",
        "\tpca.fit(features)\n",
        "\tfirst_component = pca.components_[0]\n",
        "\tsecond_component = pca.components_[1]\n",
        "\treduced_data = pca.transform(features)\n",
        "\tf = plt.figure(figsize=(8, 8))\n",
        "\tf.canvas.set_window_title('PCA of Tsunami Dataset')\n",
        "\tpos = plt.scatter(reduced_data[labels == 1, 0], reduced_data[labels == 1, 1], color='b', lw=2)\n",
        "\tneg = plt.scatter(reduced_data[labels == 0, 0], reduced_data[labels == 0, 1], color='r', lw=2)\n",
        "\tplt.legend((pos, neg), ('Tsunami-genic', 'Non Tsunami-genic'))\n",
        "\tplt.show()"
      ],
      "metadata": {
        "id": "fnM9jvHAXpyK"
      },
      "execution_count": null,
      "outputs": []
    },
    {
      "cell_type": "code",
      "source": [
        "def target_feature_split(dataset):\n",
        "\treturn dataset[:, 0:4], dataset[:, -1]\n",
        "\n",
        "\n",
        "def split_dataset(X, y):\n",
        "\treturn train_test_split(X, y, test_size=0.25, random_state=50)\n",
        "\n",
        "\n",
        "def train_model(features, labels):\n",
        "\tclf = RandomForestClassifier(n_estimators=5, random_state=1)\n",
        "\tclf.fit(features, labels)\n",
        "\t_ = joblib.dump(clf, file_name)\n",
        "\n",
        "\n",
        "def test_model(features):\n",
        "\ttry:\n",
        "\t\tclf = joblib.load(file_name)\n",
        "\t\treturn clf.predict(features)\n",
        "\texcept:\n",
        "\t\tprint('Please train the model...')"
      ],
      "metadata": {
        "id": "uGUrwxVuXs7a"
      },
      "execution_count": null,
      "outputs": []
    },
    {
      "cell_type": "code",
      "source": [
        "def get_cv_score(X, y):\n",
        "\ttry:\n",
        "\t\tclf = joblib.load(file_name)\n",
        "\t\tcv = ShuffleSplit(n_splits=5, test_size=0.30, random_state=50)\n",
        "\t\treturn cross_val_score(clf, X, y, cv=cv)\n",
        "\texcept:\n",
        "\t\tprint('Please train the model...')\n",
        "\n",
        "def find_score(pred_values, actual_values):\n",
        "\treturn accuracy_score(pred_values, actual_values)"
      ],
      "metadata": {
        "id": "lfI1gTMqXyHm"
      },
      "execution_count": null,
      "outputs": []
    },
    {
      "cell_type": "code",
      "source": [
        "def predict_tsunami(features):\n",
        "\ttry:\n",
        "\t\tclf = joblib.load(file_name)\n",
        "\t\tpred = clf.predict(features)\n",
        "\t\treturn True if pred[0] else False\n",
        "\texcept Exception as e:\n",
        "\t\tprint('Please train the model...')"
      ],
      "metadata": {
        "id": "lGE8XgyyX3de"
      },
      "execution_count": null,
      "outputs": []
    },
    {
      "cell_type": "code",
      "source": [
        "file_name = \"/model.pkl\""
      ],
      "metadata": {
        "id": "B_XDayHiX6c_"
      },
      "execution_count": null,
      "outputs": []
    },
    {
      "cell_type": "code",
      "source": [
        "if __name__ == '__main__':\n",
        "\tlabels =  ['magnitude', 'focal_depth', 'region', 'distance', 'class']\n",
        "\tdf = pd.read_csv(\"dataset_final_v7.csv\", names=labels)\n",
        "\tdataset = df.values\n",
        "\n",
        "\t#View relationship between featuers\n",
        "\t# features_relationship(df, dataset)\n",
        "\t#View individual plot\n",
        "\tdf['distance'] = df['distance'].abs()\n",
        "\t# plot_graph(df, [0, \"Magnitude (Richter Scale)\", \"magnitude\"], [1, \"Focal depth (Km)\", \"depth\"])\n",
        "\t# plot_graph(df, [0, \"Magnitude (Richter Scale)\", \"magnitude\"], [3, \"Distance from nearest coastal point (Km)\", \"distance\"])\n",
        "\t# plot_graph(df, [0, \"Magnitude (Richter Scale)\", \"magnitude\"], [2, \"Region of epicenter (Land - 1 / Sea - 0)\", \"region\"])\n",
        "\t# plot_graph(df, [1, \"Focal depth (Km)\", \"depth\"], [2, \"Region of epicenter (Land - 1 / Sea - 0)\", \"region\"])\n",
        "\t# plot_graph(df, [1, \"Focal depth (Km)\", \"depth\"], [3, \"Distance from nearest coastal point (Km)\", \"distance\"])\n",
        "\n",
        "\t# Split dataset\n",
        "\tX, y = target_feature_split(dataset)\n",
        "\tfeatures_train, features_test, labels_train, labels_test = split_dataset(X, y)\n",
        "\n",
        "\t# Dimensional Reduction\n",
        "\t#dimensional_reduction(X, y)\n",
        "\n",
        "\t# Training the model\n",
        "\ttrain_model(features_train, labels_train)\n",
        "\n",
        "\t# Testing the model\n",
        "\tpred = test_model(features_test)\n",
        "\n",
        "\t# Evaluating the model\n",
        "\tscore = find_score(pred, labels_test)\n",
        "\n",
        "\t# Confusion matrix\n",
        "\tprint(confusion_matrix(labels_test, pred, labels=[1,0]))\n",
        "\n",
        "\t# Classification report\n",
        "\tprint(classification_report(labels_test, pred, target_names=['class 0', 'class 1']))\n",
        "\n",
        "\t# Score\n",
        "\tprint('Score : {}'.format(round(score * 100, 2)))\n",
        "\n",
        "\t# CV Score\n",
        "\tcv_score = get_cv_score(X, y)\n",
        "\tprint('Score : {} (+/- {})'.format(round(cv_score.mean(), 2), round(cv_score.std(), 2)))"
      ],
      "metadata": {
        "colab": {
          "base_uri": "https://localhost:8080/"
        },
        "id": "2gfzkt91Yb2Y",
        "outputId": "4cefac21-8cc4-4066-be3d-073c442dc483"
      },
      "execution_count": null,
      "outputs": [
        {
          "output_type": "stream",
          "name": "stdout",
          "text": [
            "[[161   4]\n",
            " [  1  83]]\n",
            "              precision    recall  f1-score   support\n",
            "\n",
            "     class 0       0.95      0.99      0.97        84\n",
            "     class 1       0.99      0.98      0.98       165\n",
            "\n",
            "    accuracy                           0.98       249\n",
            "   macro avg       0.97      0.98      0.98       249\n",
            "weighted avg       0.98      0.98      0.98       249\n",
            "\n",
            "Score : 97.99\n",
            "Score : 0.98 (+/- 0.01)\n"
          ]
        }
      ]
    },
    {
      "cell_type": "code",
      "source": [
        "df.head()"
      ],
      "metadata": {
        "colab": {
          "base_uri": "https://localhost:8080/",
          "height": 206
        },
        "id": "q_PFeAjOYobr",
        "outputId": "2de1ba3d-8409-4754-c7e5-1e6f7cb96449"
      },
      "execution_count": null,
      "outputs": [
        {
          "output_type": "execute_result",
          "data": {
            "text/plain": [
              "   magnitude  focal_depth  region  distance  class\n",
              "0        4.0          108       0    0.0000      0\n",
              "1        4.0          113       0    0.0000      0\n",
              "2        4.1            1       1 -251.1790      0\n",
              "3        4.1            1       0    0.0000      0\n",
              "4        4.1          178       1  -46.7786      0"
            ],
            "text/html": [
              "\n",
              "  <div id=\"df-854e3410-a4c3-400e-b325-5cd95d350667\">\n",
              "    <div class=\"colab-df-container\">\n",
              "      <div>\n",
              "<style scoped>\n",
              "    .dataframe tbody tr th:only-of-type {\n",
              "        vertical-align: middle;\n",
              "    }\n",
              "\n",
              "    .dataframe tbody tr th {\n",
              "        vertical-align: top;\n",
              "    }\n",
              "\n",
              "    .dataframe thead th {\n",
              "        text-align: right;\n",
              "    }\n",
              "</style>\n",
              "<table border=\"1\" class=\"dataframe\">\n",
              "  <thead>\n",
              "    <tr style=\"text-align: right;\">\n",
              "      <th></th>\n",
              "      <th>magnitude</th>\n",
              "      <th>focal_depth</th>\n",
              "      <th>region</th>\n",
              "      <th>distance</th>\n",
              "      <th>class</th>\n",
              "    </tr>\n",
              "  </thead>\n",
              "  <tbody>\n",
              "    <tr>\n",
              "      <th>0</th>\n",
              "      <td>4.0</td>\n",
              "      <td>108</td>\n",
              "      <td>0</td>\n",
              "      <td>0.0000</td>\n",
              "      <td>0</td>\n",
              "    </tr>\n",
              "    <tr>\n",
              "      <th>1</th>\n",
              "      <td>4.0</td>\n",
              "      <td>113</td>\n",
              "      <td>0</td>\n",
              "      <td>0.0000</td>\n",
              "      <td>0</td>\n",
              "    </tr>\n",
              "    <tr>\n",
              "      <th>2</th>\n",
              "      <td>4.1</td>\n",
              "      <td>1</td>\n",
              "      <td>1</td>\n",
              "      <td>-251.1790</td>\n",
              "      <td>0</td>\n",
              "    </tr>\n",
              "    <tr>\n",
              "      <th>3</th>\n",
              "      <td>4.1</td>\n",
              "      <td>1</td>\n",
              "      <td>0</td>\n",
              "      <td>0.0000</td>\n",
              "      <td>0</td>\n",
              "    </tr>\n",
              "    <tr>\n",
              "      <th>4</th>\n",
              "      <td>4.1</td>\n",
              "      <td>178</td>\n",
              "      <td>1</td>\n",
              "      <td>-46.7786</td>\n",
              "      <td>0</td>\n",
              "    </tr>\n",
              "  </tbody>\n",
              "</table>\n",
              "</div>\n",
              "      <button class=\"colab-df-convert\" onclick=\"convertToInteractive('df-854e3410-a4c3-400e-b325-5cd95d350667')\"\n",
              "              title=\"Convert this dataframe to an interactive table.\"\n",
              "              style=\"display:none;\">\n",
              "        \n",
              "  <svg xmlns=\"http://www.w3.org/2000/svg\" height=\"24px\"viewBox=\"0 0 24 24\"\n",
              "       width=\"24px\">\n",
              "    <path d=\"M0 0h24v24H0V0z\" fill=\"none\"/>\n",
              "    <path d=\"M18.56 5.44l.94 2.06.94-2.06 2.06-.94-2.06-.94-.94-2.06-.94 2.06-2.06.94zm-11 1L8.5 8.5l.94-2.06 2.06-.94-2.06-.94L8.5 2.5l-.94 2.06-2.06.94zm10 10l.94 2.06.94-2.06 2.06-.94-2.06-.94-.94-2.06-.94 2.06-2.06.94z\"/><path d=\"M17.41 7.96l-1.37-1.37c-.4-.4-.92-.59-1.43-.59-.52 0-1.04.2-1.43.59L10.3 9.45l-7.72 7.72c-.78.78-.78 2.05 0 2.83L4 21.41c.39.39.9.59 1.41.59.51 0 1.02-.2 1.41-.59l7.78-7.78 2.81-2.81c.8-.78.8-2.07 0-2.86zM5.41 20L4 18.59l7.72-7.72 1.47 1.35L5.41 20z\"/>\n",
              "  </svg>\n",
              "      </button>\n",
              "      \n",
              "  <style>\n",
              "    .colab-df-container {\n",
              "      display:flex;\n",
              "      flex-wrap:wrap;\n",
              "      gap: 12px;\n",
              "    }\n",
              "\n",
              "    .colab-df-convert {\n",
              "      background-color: #E8F0FE;\n",
              "      border: none;\n",
              "      border-radius: 50%;\n",
              "      cursor: pointer;\n",
              "      display: none;\n",
              "      fill: #1967D2;\n",
              "      height: 32px;\n",
              "      padding: 0 0 0 0;\n",
              "      width: 32px;\n",
              "    }\n",
              "\n",
              "    .colab-df-convert:hover {\n",
              "      background-color: #E2EBFA;\n",
              "      box-shadow: 0px 1px 2px rgba(60, 64, 67, 0.3), 0px 1px 3px 1px rgba(60, 64, 67, 0.15);\n",
              "      fill: #174EA6;\n",
              "    }\n",
              "\n",
              "    [theme=dark] .colab-df-convert {\n",
              "      background-color: #3B4455;\n",
              "      fill: #D2E3FC;\n",
              "    }\n",
              "\n",
              "    [theme=dark] .colab-df-convert:hover {\n",
              "      background-color: #434B5C;\n",
              "      box-shadow: 0px 1px 3px 1px rgba(0, 0, 0, 0.15);\n",
              "      filter: drop-shadow(0px 1px 2px rgba(0, 0, 0, 0.3));\n",
              "      fill: #FFFFFF;\n",
              "    }\n",
              "  </style>\n",
              "\n",
              "      <script>\n",
              "        const buttonEl =\n",
              "          document.querySelector('#df-854e3410-a4c3-400e-b325-5cd95d350667 button.colab-df-convert');\n",
              "        buttonEl.style.display =\n",
              "          google.colab.kernel.accessAllowed ? 'block' : 'none';\n",
              "\n",
              "        async function convertToInteractive(key) {\n",
              "          const element = document.querySelector('#df-854e3410-a4c3-400e-b325-5cd95d350667');\n",
              "          const dataTable =\n",
              "            await google.colab.kernel.invokeFunction('convertToInteractive',\n",
              "                                                     [key], {});\n",
              "          if (!dataTable) return;\n",
              "\n",
              "          const docLinkHtml = 'Like what you see? Visit the ' +\n",
              "            '<a target=\"_blank\" href=https://colab.research.google.com/notebooks/data_table.ipynb>data table notebook</a>'\n",
              "            + ' to learn more about interactive tables.';\n",
              "          element.innerHTML = '';\n",
              "          dataTable['output_type'] = 'display_data';\n",
              "          await google.colab.output.renderOutput(dataTable, element);\n",
              "          const docLink = document.createElement('div');\n",
              "          docLink.innerHTML = docLinkHtml;\n",
              "          element.appendChild(docLink);\n",
              "        }\n",
              "      </script>\n",
              "    </div>\n",
              "  </div>\n",
              "  "
            ]
          },
          "metadata": {},
          "execution_count": 25
        }
      ]
    },
    {
      "cell_type": "code",
      "source": [
        "X.shape"
      ],
      "metadata": {
        "colab": {
          "base_uri": "https://localhost:8080/"
        },
        "id": "2u9Zw9iMcR8U",
        "outputId": "f9997a58-85d2-492b-ed52-265e6f6df16d"
      },
      "execution_count": null,
      "outputs": [
        {
          "output_type": "execute_result",
          "data": {
            "text/plain": [
              "(995, 4)"
            ]
          },
          "metadata": {},
          "execution_count": 30
        }
      ]
    },
    {
      "cell_type": "code",
      "source": [
        "X"
      ],
      "metadata": {
        "colab": {
          "base_uri": "https://localhost:8080/"
        },
        "id": "2CoFJ9mFh_Bh",
        "outputId": "0d116467-3333-461e-bd6a-15f84991f0eb"
      },
      "execution_count": null,
      "outputs": [
        {
          "output_type": "execute_result",
          "data": {
            "text/plain": [
              "array([[   4.     ,  108.     ,    0.     ,    0.     ],\n",
              "       [   4.     ,  113.     ,    0.     ,    0.     ],\n",
              "       [   4.1    ,    1.     ,    1.     , -251.179  ],\n",
              "       ...,\n",
              "       [   9.1    ,   30.     ,    0.     ,    0.     ],\n",
              "       [   9.1    ,   30.     ,    0.     ,    0.     ],\n",
              "       [   9.5    ,   33.     ,    1.     ,   -3.15413]])"
            ]
          },
          "metadata": {},
          "execution_count": 31
        }
      ]
    },
    {
      "cell_type": "code",
      "source": [
        "df['distance']"
      ],
      "metadata": {
        "id": "xjODwoPtiHM4",
        "colab": {
          "base_uri": "https://localhost:8080/"
        },
        "outputId": "d34983fb-583f-46b9-c338-0a21c2b6aca7"
      },
      "execution_count": null,
      "outputs": [
        {
          "output_type": "execute_result",
          "data": {
            "text/plain": [
              "0        0.00000\n",
              "1        0.00000\n",
              "2     -251.17900\n",
              "3        0.00000\n",
              "4      -46.77860\n",
              "         ...    \n",
              "990      0.00000\n",
              "991      0.00000\n",
              "992      0.00000\n",
              "993      0.00000\n",
              "994     -3.15413\n",
              "Name: distance, Length: 995, dtype: float64"
            ]
          },
          "metadata": {},
          "execution_count": 26
        }
      ]
    },
    {
      "cell_type": "code",
      "source": [],
      "metadata": {
        "id": "m1So1FxAAwt9"
      },
      "execution_count": null,
      "outputs": []
    },
    {
      "cell_type": "code",
      "source": [],
      "metadata": {
        "id": "mkE2hMmKJOLe"
      },
      "execution_count": null,
      "outputs": []
    },
    {
      "cell_type": "code",
      "source": [
        "import matplotlib.pyplot as plt\n",
        "import numpy as np\n",
        "\n",
        "# Define the data as a 2D array\n",
        "data = np.array([[161, 4], [1, 83]])\n",
        "\n",
        "# Define the labels for the x and y axes\n",
        "labels = ['Tsunamigenic', 'Non-Tsunamigenic']\n",
        "x_labels = ['Predicted Tsunamigenic', 'Predicted Non-Tsunamigenic']\n",
        "\n",
        "# Set the width of the bars\n",
        "width = 0.4\n",
        "\n",
        "# Define the x-coordinates of the bars\n",
        "x = np.arange(len(labels))\n",
        "\n",
        "# Create the vertical bar plot\n",
        "fig, ax = plt.subplots()\n",
        "ax.bar(x - width/2, data[:, 0], width, color='b', label=x_labels[0])\n",
        "ax.bar(x + width/2, data[:, 1], width, color='r', label=x_labels[1])\n",
        "ax.legend()\n",
        "\n",
        "# Set y-axis limits to show both bars\n",
        "ax.set_ylim(0, 170)\n",
        "\n",
        "# Add annotations for the values\n",
        "for i in range(len(labels)):\n",
        "    for j in range(len(x_labels)):\n",
        "        ax.annotate(str(data[i, j]), xy=(x[i] + (-1 if j == 0 else 1) * width/4, data[i, j]),\n",
        "                    ha='center', va='bottom', color='white')\n",
        "\n",
        "# Add labels and title\n",
        "ax.set_ylabel('Number of Samples')\n",
        "ax.set_xlabel('Class')\n",
        "ax.set_title('Results')\n",
        "plt.xticks(x, labels)\n",
        "plt.show()\n"
      ],
      "metadata": {
        "colab": {
          "base_uri": "https://localhost:8080/",
          "height": 472
        },
        "id": "219aVA6IJfFr",
        "outputId": "7235f728-fb95-4fef-fc9c-917dff083ccd"
      },
      "execution_count": null,
      "outputs": [
        {
          "output_type": "display_data",
          "data": {
            "text/plain": [
              "<Figure size 640x480 with 1 Axes>"
            ],
            "image/png": "[encoded data removed]"
          },
          "metadata": {}
        }
      ]
    },
    {
      "cell_type": "code",
      "source": [],
      "metadata": {
        "id": "D72h675CKWaN"
      },
      "execution_count": null,
      "outputs": []
    }
  ]
}